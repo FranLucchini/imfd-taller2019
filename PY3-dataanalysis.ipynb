{
 "cells": [
  {
   "cell_type": "markdown",
   "metadata": {},
   "source": [
    "## Web Scraper - IMFD Taller Periodistas 2019\n",
    "Se obtendrán datos de fuentes de oferta inmobiliaria\n",
    "\n",
    "#### Fuentes:\n",
    "1. www.portalinmobiliario.com\n",
    "2. http://www.propiedades.emol.com\n",
    "3. www.zoominmobiliario.com\n",
    "\n",
    "El objetivo es obtener ofertas inmobiliarias enfocadas en la clase media Chilena (C1b, C2, C3).\n",
    "\n",
    "#### Supuestos de la clase media:\n",
    "- Ingresos mensuales entre 900.000 y 2.000.000 CLP.\n",
    "- Préstamo inmobiliario a 25 o hasta 40 años.\n",
    "- persona Chilena promedio gasta en promedio 40% a 60% del sueldo en vivienda (360.000 a 1.200.000)\n",
    "- Precio de compra entre 2000 y 3000 UFs.\n",
    "- Arriendo entre 360.000 y 1.200.000 CLP (UF 13.0 a 44.0).\n",
    "\n",
    "Tutoriales:\n",
    "1. Selenium Web Scraping: https://medium.com/the-andela-way/introduction-to-web-scraping-using-selenium-7ec377a8cf72\n",
    "2. GeckoDriver: https://askubuntu.com/questions/870530/how-to-install-geckodriver-in-ubuntu\n",
    "3. Selenium: https://selenium-python.readthedocs.io/installation.html\n",
    "4. Google Places: https://developers.google.com/places/web-service/search\n",
    "5. Google Maps: https://developers.google.com/maps/documentation/geocoding/start"
   ]
  },
  {
   "cell_type": "code",
   "execution_count": 1,
   "metadata": {},
   "outputs": [],
   "source": [
    "import sys\n",
    "\n",
    "from selenium import webdriver \n",
    "from selenium.webdriver.common.by import By \n",
    "from selenium.webdriver.support.ui import WebDriverWait \n",
    "from selenium.webdriver.support import expected_conditions as EC \n",
    "from selenium.common.exceptions import TimeoutException"
   ]
  },
  {
   "cell_type": "markdown",
   "metadata": {},
   "source": [
    "----\n",
    "### Portal Inmobiliario"
   ]
  },
  {
   "cell_type": "code",
   "execution_count": 2,
   "metadata": {},
   "outputs": [],
   "source": [
    "# Variables\n",
    "\n",
    "# Purchase min and max values\n",
    "price_down = '2.000'\n",
    "price_high = '3.000'\n",
    "\n",
    "# Purchase min and max values\n",
    "rent_min = '13'\n",
    "rent_max = '44'\n",
    "\n",
    "# First is dptos (pages[0]), second houses(pages[1])\n",
    "# The inside bracket: first purchase (pages[0][0], pages[1][0]), second renting (pages[0][1], pages[1][1])\n",
    "pages = [[148, 357],[69, 61]]\n",
    "\n",
    "tipos = ['departamento', 'casa']\n",
    "\n",
    "urls = []\n",
    "for i in range(len(tipos)):\n",
    "    t = tipos[i]\n",
    "    # Buy\n",
    "    for p in range(1, pages[i][0]+1):\n",
    "        urls.append(\"https://www.portalinmobiliario.com/venta/\"+t+\"/metropolitana?pd=\"+price_down+\"&ph=\"+price_high+\"&pg=\"+str(p))\n",
    "    # Rent\n",
    "    for p in range(1, pages[i][1]+1):\n",
    "        urls.append(\"https://www.portalinmobiliario.com/arriendo/\"+t+\"/metropolitana?pd=\"+rent_min+\"&ph=\"+rent_max+\"&pg=\"+str(p))\n",
    "    \n",
    "# for u in urls:\n",
    "#     print(u)"
   ]
  },
  {
   "cell_type": "code",
   "execution_count": 8,
   "metadata": {},
   "outputs": [
    {
     "name": "stdout",
     "output_type": "stream",
     "text": [
      "https://www.portalinmobiliario.com/venta/departamento/metropolitana?pd=2.000&ph=3.000&pg=21\n",
      "(<class 'IndexError'>, IndexError('list index out of range'), <traceback object at 0x7f974c57d188>)\n",
      "['Departamento Barrio Yungay, Santiago, Santiago', 'Código: 5009529', 'UF 2.065,00']\n",
      "https://www.portalinmobiliario.com/venta/departamento/metropolitana?pd=2.000&ph=3.000&pg=42\n",
      "(<class 'ValueError'>, ValueError(\"could not convert string to float: 'Superficie:'\"), <traceback object at 0x7f974c1ca3c8>)\n",
      "['GRAN AVDA / METRO LO OVALLE, La Cisterna', 'Código: 5028117', 'UF 2.236,00', 'Superficie:', '43 m²']\n",
      "https://www.portalinmobiliario.com/venta/departamento/metropolitana?pd=2.000&ph=3.000&pg=72\n",
      "(<class 'IndexError'>, IndexError('list index out of range'), <traceback object at 0x7f974c2d5048>)\n",
      "['Ecuador / María Rozas, Estación Central', 'Código: 5004439', 'UF 2.467,00']\n",
      "https://www.portalinmobiliario.com/venta/departamento/metropolitana?pd=2.000&ph=3.000&pg=121\n",
      "(<class 'ValueError'>, ValueError(\"could not convert string to float: 'Superficie:'\"), <traceback object at 0x7f974c291cc8>)\n",
      "['METRO IRARRAZAVAL, Santiago', 'Código: 5006611', 'UF 2.840,00', 'Superficie:', '40 - 42 m²']\n",
      "https://www.portalinmobiliario.com/arriendo/departamento/metropolitana?pd=13&ph=44&pg=21\n",
      "(<class 'ValueError'>, ValueError(\"could not convert string to float: 'Superficie:'\"), <traceback object at 0x7f974c04cc48>)\n",
      "['Antiguo Remodelado / Espectacular Terraz, Santiago', 'Código: 5027563', 'UF 13,58', 'Superficie:', '48 - 48 m²']\n",
      "https://www.portalinmobiliario.com/arriendo/departamento/metropolitana?pd=13&ph=44&pg=31\n",
      "(<class 'ValueError'>, ValueError(\"could not convert string to float: 'Superficie:'\"), <traceback object at 0x7f974c069d08>)\n",
      "['DEPTO 2D/2B CON BODEGA, Ñuñoa', 'Código: 5007989', 'UF 13,94', 'Superficie:', '45 - 45 m²']\n",
      "https://www.portalinmobiliario.com/arriendo/departamento/metropolitana?pd=13&ph=44&pg=38\n",
      "(<class 'ValueError'>, ValueError(\"could not convert string to float: 'Superficie:'\"), <traceback object at 0x7f974c078a48>)\n",
      "['Padre Hurtado / Camino El Alba, Las Condes', 'Código: 4979281', 'UF 14,29', 'Superficie:', '30 - 30 m²']\n",
      "https://www.portalinmobiliario.com/arriendo/departamento/metropolitana?pd=13&ph=44&pg=137\n",
      "(<class 'IndexError'>, IndexError('list index out of range'), <traceback object at 0x7f9737f6d488>)\n",
      "['SUR- LAS ANTILLAS- EDIFICIO GRENADA, Alhué', 'Código: 2325527', 'UF 20,23']\n",
      "https://www.portalinmobiliario.com/arriendo/departamento/metropolitana?pd=13&ph=44&pg=201\n",
      "(<class 'ValueError'>, ValueError(\"could not convert string to float: 'Superficie:'\"), <traceback object at 0x7f9737e89f08>)\n",
      "['COVENTRY, Ñuñoa', 'Código: 4835560', 'UF 25,04', 'Superficie:', '75 - 85 m²']\n",
      "https://www.portalinmobiliario.com/arriendo/departamento/metropolitana?pd=13&ph=44&pg=202\n",
      "(<class 'ValueError'>, ValueError(\"could not convert string to float: 'Superficie:'\"), <traceback object at 0x7f9737f73248>)\n",
      "['COVENTRY, Ñuñoa', 'Código: 4835560', 'UF 25,04', 'Superficie:', '75 - 85 m²']\n",
      "https://www.portalinmobiliario.com/arriendo/departamento/metropolitana?pd=13&ph=44&pg=227\n",
      "(<class 'ValueError'>, ValueError(\"could not convert string to float: 'Superficie:'\"), <traceback object at 0x7f9737e44948>)\n",
      "['EL GOLF- EL BOSQUE, Las Condes', 'Código: 4838787', 'UF 28,50', 'Superficie:', '70 - 70 m²']\n",
      "https://www.portalinmobiliario.com/arriendo/departamento/metropolitana?pd=13&ph=44&pg=310\n",
      "(<class 'ValueError'>, ValueError(\"could not convert string to float: 'Superficie:'\"), <traceback object at 0x7f9737d95a88>)\n",
      "['El Golf, Las Condes', 'Código: 4625681', 'UF 40,00', 'Superficie:', '80 - 80 m²']\n",
      "https://www.portalinmobiliario.com/venta/casa/metropolitana?pd=2.000&ph=3.000&pg=17\n",
      "(<class 'ValueError'>, ValueError(\"could not convert string to float: 'Superficie:'\"), <traceback object at 0x7f9737d373c8>)\n",
      "['Carlos Castro/Avenida Sur, Paradero 30 1, El Bosque', 'Código: 4896495', 'UF 2.322,75', 'Superficie:', '173 m²']\n",
      "https://www.portalinmobiliario.com/arriendo/casa/metropolitana?pd=13&ph=44&pg=49\n",
      "(<class 'ValueError'>, ValueError(\"could not convert string to float: 'Superficie:'\"), <traceback object at 0x7f9737c24f08>)\n",
      "['Locales Santa Rosa, A Pasos De Metro., La Florida', 'Código: 4843287', 'UF 40,00', 'Superficie:', '55 - 55 m²']\n",
      "https://www.portalinmobiliario.com/arriendo/casa/metropolitana?pd=13&ph=44&pg=55\n",
      "(<class 'ValueError'>, ValueError(\"could not convert string to float: 'Superficie:'\"), <traceback object at 0x7f9737c34d48>)\n",
      "['SANTA CECILIA, Colina', 'Código: 4657583', 'UF 44,00', 'Superficie:', '370 - 3.500 m²']\n"
     ]
    }
   ],
   "source": [
    "# Get data\n",
    "browser = webdriver.Firefox()\n",
    "p_inmobiliario = []\n",
    "\n",
    "for u in urls:\n",
    "    browser.get(u)\n",
    "    \n",
    "    # Find all offers' data\n",
    "    titles_element = browser.find_elements_by_class_name('product-item-data')\n",
    "    \n",
    "    # Code, Address, Price(s), Size\n",
    "    for prop in titles_element:\n",
    "        \n",
    "        data = prop.text.split('\\n')\n",
    "        try:\n",
    "            rooms = 'n/a'\n",
    "\n",
    "            # Clean Data depending on \"Proyecto\" or \"Propiedad Usada\"\n",
    "            if 'Proyecto' in data[0]:\n",
    "                data = data[2:]\n",
    "            else:\n",
    "                rooms = data[3]\n",
    "                data = data[1:3] + data[4:]\n",
    "\n",
    "            # Get Address\n",
    "            addr = data[0]\n",
    "\n",
    "            # Get Code\n",
    "            code = int(data[1].split()[1])\n",
    "\n",
    "            # Get price\n",
    "            price_min = float(data[3].split(',')[0].replace(\"UF \", \"\").replace(\".\", ''))\n",
    "            \n",
    "            # Check if place has more info:\n",
    "            price_max = 0.0\n",
    "            values = [0.0, 0.0]\n",
    "            if(len(data)>= 5):\n",
    "                # Check if there's \"hasta\" price\n",
    "                if(data[4]==\"Hasta:\"):\n",
    "                    price_max = float(data[5].split(',')[0].replace(\"UF \", \"\").replace(\".\", ''))\n",
    "                    values = data[7].replace(\",\", \".\").split() \n",
    "                else:\n",
    "                    values = data[5].replace(\",\", \".\").split()\n",
    "\n",
    "                size_min = float(values[0])\n",
    "\n",
    "                if(len(values)>2):\n",
    "                    size_max = float(values[2])\n",
    "\n",
    "            purchase = 'venta' if 'venta' in u else 'arriendo'\n",
    "            elem_type = 'casa' if 'casa' in u else 'departamento'\n",
    "\n",
    "            p_inmobiliario.append([code, addr, rooms, price_min, price_max, size_min, size_max, purchase, elem_type])\n",
    "            \n",
    "        except:\n",
    "            e = sys.exc_info()\n",
    "            print(u)\n",
    "            print(e)\n",
    "            print(data)\n",
    "browser.close()"
   ]
  },
  {
   "cell_type": "markdown",
   "metadata": {},
   "source": [
    "Formato de los datos en `p_inmobiliario`:\n",
    "\n",
    "| Código | Dirección | Piezas | Precio Min (UF) | Precio Max (UF) | Tamaño Min (m<sup>2</sup>) | Tamaño Max (m<sup>2</sup>) | Pago | Tipo de Vivienda|\n",
    "|:----:|:----:|:----:|:----:|:----:|:----:|:----:|:----:|:----:|\n",
    "| 12345 | Vicuña Mackenna 3030, Macul | n/a | 2400.0 | 3000.0 | 37.0 | 38.0 | venta | departamento |\n",
    "| 12346 | Marberia 476, Las Condes | 3D2B | 28.0 | 0.0 | 25.0 | 0.0 | arriendo | casa |\n",
    "\n",
    "Lo siguiente es guardar los datos en un csv:"
   ]
  },
  {
   "cell_type": "code",
   "execution_count": 21,
   "metadata": {},
   "outputs": [],
   "source": [
    "import csv\n",
    "import datetime\n",
    "\n",
    "# Add current date to CSV's filename\n",
    "now = '{0:d%Y-%m-%d_t%H-%M-%S}'.format(datetime.datetime.now())\n",
    "filename = \"p_inmobiliario_\"+now+\".csv\"\n",
    "\n",
    "with open(filename, 'w', newline=\"\") as myfile:\n",
    "    wr = csv.writer(myfile)\n",
    "    wr.writerow(['Codigo', 'Direccion', 'Piezas', 'Precio Min (UF)', 'Precio Max (UF)', 'Tamaño Min', 'Tamaño Max', 'Pago', 'Tipo de Vivienda'])\n",
    "    wr.writerows(p_inmobiliario)"
   ]
  },
  {
   "cell_type": "markdown",
   "metadata": {},
   "source": [
    "#### Google Places\n",
    "Es necesario encontrar latitud y longitud de los campos de dirección obtenidos de la página"
   ]
  },
  {
   "cell_type": "code",
   "execution_count": null,
   "metadata": {},
   "outputs": [],
   "source": []
  },
  {
   "cell_type": "markdown",
   "metadata": {},
   "source": [
    "#### Google Maps\n",
    "Después de obtener los datos, debemos mostrarlos en el mapa. Cargamos la llave de la API de Google Maps:"
   ]
  },
  {
   "cell_type": "code",
   "execution_count": null,
   "metadata": {},
   "outputs": [],
   "source": [
    "with open('API_key.txt') as f:\n",
    "    API_key = f.readline()\n",
    "    f.close\n",
    "\n",
    "import gmaps\n",
    "gmaps.configure(api_key=API_key)"
   ]
  },
  {
   "cell_type": "markdown",
   "metadata": {},
   "source": [
    "### TRY STUFF BLOCK"
   ]
  },
  {
   "cell_type": "code",
   "execution_count": 148,
   "metadata": {},
   "outputs": [
    {
     "name": "stdout",
     "output_type": "stream",
     "text": [
      "['Departamental 1475, La Florida', 'Código: 7364', 'Desde:', 'UF 2.100,00', 'Hasta:', 'UF 3.690,00', 'Superficie:', '37,21 - 67,65 m²']\n",
      "[7364, 'Departamental 1475, La Florida', 'n/a', 2100.0, 3690.0, 37.21, 67.65, 'sell', 'dpto']\n",
      "['Lazo 1456, San Miguel', 'Código: 7401', 'Desde:', 'UF 2.797,00', 'Hasta:', 'UF 3.570,00', 'Superficie:', '55,90 - 71,70 m²']\n",
      "[7401, 'Lazo 1456, San Miguel', 'n/a', 2797.0, 3570.0, 55.9, 71.7, 'sell', 'dpto']\n",
      "['Vicuña Mackenna 6130, La Florida', 'Código: 7612', 'Desde:', 'UF 2.460,00', 'Hasta:', 'UF 3.500,00', 'Superficie:', '39,06 - 74,24 m²']\n",
      "[7612, 'Vicuña Mackenna 6130, La Florida', 'n/a', 2460.0, 3500.0, 39.06, 74.24, 'sell', 'dpto']\n",
      "['Camino del Paisaje 6546, La Florida', 'Código: 4708', 'Desde:', 'UF 2.690,00', 'Hasta:', 'UF 6.920,00', 'Superficie:', '53,08 - 129,69 m²']\n",
      "[4708, 'Camino del Paisaje 6546, La Florida', 'n/a', 2690.0, 6920.0, 53.08, 129.69, 'sell', 'dpto']\n",
      "['José Miguel Carrera 680, Santiago', 'Código: 6952', 'Desde:', 'UF 2.825,00', 'Superficie:', '38,58 - 50,93 m²']\n",
      "[6952, 'José Miguel Carrera 680, Santiago', 'n/a', 2825.0, 0.0, 38.58, 50.93, 'sell', 'dpto']\n",
      "['Avenida Vicuña Mackenna 7735, La Florida', 'Código: 6778', 'Desde:', 'UF 2.563,00', 'Superficie:', '40,02 - 72,78 m²']\n",
      "[6778, 'Avenida Vicuña Mackenna 7735, La Florida', 'n/a', 2563.0, 0.0, 40.02, 72.78, 'sell', 'dpto']\n",
      "['Fray Camilo Henríquez 320, Santiago', 'Código: 8567', 'Desde:', 'UF 2.250,00', 'Hasta:', 'UF 4.167,00', 'Superficie:', '30,30 - 66,91 m²']\n",
      "[8567, 'Fray Camilo Henríquez 320, Santiago', 'n/a', 2250.0, 4167.0, 30.3, 66.91, 'sell', 'dpto']\n",
      "['El Blanco 58, La Florida', 'Código: 9041', 'Desde:', 'UF 1.952,00', 'Hasta:', 'UF 3.735,00', 'Superficie:', '27,77 - 74,38 m²']\n",
      "[9041, 'El Blanco 58, La Florida', 'n/a', 1952.0, 3735.0, 27.77, 74.38, 'sell', 'dpto']\n",
      "['Las Madreselvas 4519, Macul', 'Código: 8303', 'Desde:', 'UF 2.702,00', 'Hasta:', 'UF 4.080,00', 'Superficie:', '56,87 - 95,93 m²']\n",
      "[8303, 'Las Madreselvas 4519, Macul', 'n/a', 2702.0, 4080.0, 56.87, 95.93, 'sell', 'dpto']\n",
      "['Av. Ecuador 5079, Estación Central', 'Código: 7257', 'Desde:', 'UF 2.708,00', 'Hasta:', 'UF 3.100,00', 'Superficie:', '51,14 - 69,27 m²']\n",
      "[7257, 'Av. Ecuador 5079, Estación Central', 'n/a', 2708.0, 3100.0, 51.14, 69.27, 'sell', 'dpto']\n",
      "['Rondizzoni 2020, Santiago', 'Código: 8819', 'Desde:', 'UF 2.551,00', 'Hasta:', 'UF 3.807,00', 'Superficie:', '25,48 - 49,30 m²']\n",
      "[8819, 'Rondizzoni 2020, Santiago', 'n/a', 2551.0, 3807.0, 25.48, 49.3, 'sell', 'dpto']\n",
      "['Orompello 7255, La Florida', 'Código: 8223', 'Desde:', 'UF 2.611,00', 'Hasta:', 'UF 5.508,00', 'Superficie:', '41,68 - 89,36 m²']\n",
      "[8223, 'Orompello 7255, La Florida', 'n/a', 2611.0, 5508.0, 41.68, 89.36, 'sell', 'dpto']\n",
      "['Vicuña Mackenna 5862, La Florida', 'Código: 8247', 'Desde:', 'UF 1.630,00', 'Hasta:', 'UF 2.984,00', 'Superficie:', '21,03 - 59,12 m²']\n",
      "[8247, 'Vicuña Mackenna 5862, La Florida', 'n/a', 1630.0, 2984.0, 21.03, 59.12, 'sell', 'dpto']\n",
      "['Carlos Silva Vildosola 1068, San Miguel', 'Código: 8023', 'Desde:', 'UF 2.416,00', 'Hasta:', 'UF 3.639,00', 'Superficie:', '47,78 - 72,58 m²']\n",
      "[8023, 'Carlos Silva Vildosola 1068, San Miguel', 'n/a', 2416.0, 3639.0, 47.78, 72.58, 'sell', 'dpto']\n",
      "['San Diego 2044, Santiago', 'Código: 9026', 'Desde:', 'UF 2.415,00', 'Superficie:', '37,09 - 67,27 m²']\n",
      "[9026, 'San Diego 2044, Santiago', 'n/a', 2415.0, 0.0, 37.09, 67.27, 'sell', 'dpto']\n",
      "['Los Clarines 3120, Macul', 'Código: 8562', 'Desde:', 'UF 2.590,00', 'Hasta:', 'UF 5.090,00', 'Superficie:', '37,01 - 90,99 m²']\n",
      "[8562, 'Los Clarines 3120, Macul', 'n/a', 2590.0, 5090.0, 37.01, 90.99, 'sell', 'dpto']\n",
      "['Santa Isabel 330, Santiago', 'Código: 8817', 'Desde:', 'UF 2.787,00', 'Hasta:', 'UF 3.805,00', 'Superficie:', '34 - 54,03 m²']\n",
      "[8817, 'Santa Isabel 330, Santiago', 'n/a', 2787.0, 3805.0, 34.0, 54.03, 'sell', 'dpto']\n",
      "['Goycolea 100, La Cisterna', 'Código: 8678', 'Desde:', 'UF 1.840,00', 'Superficie:', '34,94 - 46,17 m²']\n",
      "[8678, 'Goycolea 100, La Cisterna', 'n/a', 1840.0, 0.0, 34.94, 46.17, 'sell', 'dpto']\n",
      "['Arturo Prat 631, Santiago', 'Código: 8387', 'Desde:', 'UF 2.538,00', 'Superficie:', '32,99 - 32,99 m²']\n",
      "[8387, 'Arturo Prat 631, Santiago', 'n/a', 2538.0, 0.0, 32.99, 32.99, 'sell', 'dpto']\n",
      "['Castillo Urizar 1850, Ñuñoa', 'Código: 9066', 'Desde:', 'UF 2.575,00', 'Hasta:', 'UF 5.000,00', 'Superficie:', '32,89 - 80,50 m²']\n",
      "[9066, 'Castillo Urizar 1850, Ñuñoa', 'n/a', 2575.0, 5000.0, 32.89, 80.5, 'sell', 'dpto']\n",
      "['Colombia 7800, La Florida', 'Código: 7610', 'Desde:', 'UF 2.773,00', 'Hasta:', 'UF 4.138,00', 'Superficie:', '44 - 67,17 m²']\n",
      "[7610, 'Colombia 7800, La Florida', 'n/a', 2773.0, 4138.0, 44.0, 67.17, 'sell', 'dpto']\n",
      "['Coronel Godoy s/n, Estación Central', 'Código: 6823', 'Desde:', 'UF 2.114,00', 'Hasta:', 'UF 2.394,00', 'Superficie:', '45,61 - 54,63 m²']\n",
      "[6823, 'Coronel Godoy s/n, Estación Central', 'n/a', 2114.0, 2394.0, 45.61, 54.63, 'sell', 'dpto']\n",
      "['Walker Martínez 1600, La Florida', 'Código: 6222', 'Desde:', 'UF 2.240,00', 'Hasta:', 'UF 3.584,00', 'Superficie:', '49 - 68,20 m²']\n",
      "[6222, 'Walker Martínez 1600, La Florida', 'n/a', 2240.0, 3584.0, 49.0, 68.2, 'sell', 'dpto']\n",
      "['Rodrigo de Araya 1410, Ñuñoa', 'Código: 8713', 'Desde:', 'UF 2.290,00', 'Hasta:', 'UF 4.334,00', 'Superficie:', '38,84 - 71,91 m²']\n",
      "[8713, 'Rodrigo de Araya 1410, Ñuñoa', 'n/a', 2290.0, 4334.0, 38.84, 71.91, 'sell', 'dpto']\n",
      "['Manuel Rodríguez 39, Santiago', 'Código: 8192', 'Desde:', 'UF 2.850,00', 'Hasta:', 'UF 4.139,00', 'Superficie:', '34,58 - 68,98 m²']\n",
      "[8192, 'Manuel Rodríguez 39, Santiago', 'n/a', 2850.0, 4139.0, 34.58, 68.98, 'sell', 'dpto']\n"
     ]
    }
   ],
   "source": [
    "browser.get('https://www.portalinmobiliario.com/venta/departamento/metropolitana?pd=2.000&ph=3.000&pg=1')\n",
    "# find_elements_by_xpath returns an array of selenium objects.\n",
    "titles_element = browser.find_elements_by_class_name('product-item-data')\n",
    "\n",
    "# print(titles_element[0].text.split('\\n'))#)[7]))#.split(',')[0].replace('UF ', '')))\n",
    "\n",
    "p_inmobiliario = []\n",
    "\n",
    "# Code, Address, Price(s), Size\n",
    "for prop in titles_element:\n",
    "    data = prop.text.split('\\n')\n",
    "    rooms = 'n/a'\n",
    "    # Clean Data depending on \"Proyecto\" or \"Propiedad Usada\"\n",
    "    if 'Proyecto' in data[0]:\n",
    "        data = data[2:]\n",
    "    else:\n",
    "        rooms = data[3]\n",
    "        data = data[1:3] + data[4:]\n",
    "        \n",
    "    print(data)\n",
    "    # Get Address\n",
    "    addr = data[0]\n",
    "    # Get Code\n",
    "    code = int(data[1].split()[1])\n",
    "    # Get price\n",
    "    price_min = float(data[3].split(',')[0].replace(\"UF \", \"\").replace(\".\", ''))\n",
    "    values\n",
    "    # Check if there's \"hasta\" price\n",
    "    if(data[4]==\"Hasta:\"):\n",
    "        price_max = float(data[5].split(',')[0].replace(\"UF \", \"\").replace(\".\", ''))\n",
    "        values = data[7].replace(\",\", \".\").split() \n",
    "    else:\n",
    "        price_max = 0.0\n",
    "        values = data[5].replace(\",\", \".\").split()\n",
    "    size_min = float(values[0])\n",
    "    if(len(values)>2):\n",
    "        size_max = float(values[2])\n",
    "    else:\n",
    "        size_max = 0.0\n",
    "    \n",
    "    p_inmobiliario.append([code, addr, rooms, price_min, price_max, size_min, size_max, \"sell\", \"dpto\"])\n",
    "    print(p_inmobiliario[-1])\n",
    "\n"
   ]
  },
  {
   "cell_type": "code",
   "execution_count": 138,
   "metadata": {},
   "outputs": [
    {
     "name": "stdout",
     "output_type": "stream",
     "text": [
      "['Avenida Vicuña Mackenna 2935 - Departamento 704, San Joaquín', 'Código: 4763668', '1D/1B', 'Valor:', 'UF 2.380,00', 'Superficie:', '33 - 36 m²']\n"
     ]
    }
   ],
   "source": [
    "print(data[1:])"
   ]
  },
  {
   "cell_type": "code",
   "execution_count": 6,
   "metadata": {},
   "outputs": [
    {
     "name": "stdout",
     "output_type": "stream",
     "text": [
      "['c,', 's', 't', 'f', 'd', 'q']\n"
     ]
    }
   ],
   "source": [
    "arr = ['a','c,','s','r','t','f','d','q']\n",
    "\n",
    "print(arr[1:3] + arr[4:])\n"
   ]
  },
  {
   "cell_type": "code",
   "execution_count": 7,
   "metadata": {},
   "outputs": [
    {
     "data": {
      "text/plain": [
       "4"
      ]
     },
     "execution_count": 7,
     "metadata": {},
     "output_type": "execute_result"
    }
   ],
   "source": [
    "a = ['Carmen Victoria - 1D1B - Plaza San Isidr, Santiago', 'Código: 5005791', 'Valor:', 'UF 2.000,00']\n",
    "len(a)"
   ]
  }
 ],
 "metadata": {
  "kernelspec": {
   "display_name": "Python 3",
   "language": "python",
   "name": "python3"
  },
  "language_info": {
   "codemirror_mode": {
    "name": "ipython",
    "version": 3
   },
   "file_extension": ".py",
   "mimetype": "text/x-python",
   "name": "python",
   "nbconvert_exporter": "python",
   "pygments_lexer": "ipython3",
   "version": "3.7.3"
  }
 },
 "nbformat": 4,
 "nbformat_minor": 2
}
