{
 "cells": [
  {
   "cell_type": "code",
   "execution_count": null,
   "metadata": {},
   "outputs": [],
   "source": [
    "        # print('No Geoloc')\n",
    "        \n",
    "#   # Code, Address, Price(s), Size\n",
    "#     for prop in titles_element:\n",
    "        \n",
    "#         # Get Unit's Data\n",
    "#         data = prop.text.split('\\n')\n",
    "        \n",
    "#         # Get Latitude and Longitude\n",
    "        \n",
    "#         lat, lon = geoloc()\n",
    "        \n",
    "#         try:\n",
    "#             rooms = 'n/a'\n",
    "            \n",
    "            \n",
    "#             # Clean Data depending on \"Proyecto\" or \"Propiedad Usada\"\n",
    "#             if 'Proyecto' in data[0]:\n",
    "#                 data = data[2:]\n",
    "#             else:\n",
    "#                 rooms = data[3]\n",
    "#                 data = data[1:3] + data[4:]\n",
    "\n",
    "#             # Get Address\n",
    "#             addr = data[0]\n",
    "#             # print(addr)\n",
    "\n",
    "#             # Get Code\n",
    "#             code = int(data[1].split()[1])\n",
    "            \n",
    "#             # Get Comuna\n",
    "#             comuna = addr.split(',')[-1].strip()\n",
    "            \n",
    "#             # Get price\n",
    "#             price_min = 0.0\n",
    "#             if(hasNumbers(data[2])):\n",
    "#                 price_min = float(data[2].split(',')[0].split()[-1].replace(\".\", ''))\n",
    "#             else:\n",
    "#                 price_min = float(data[3].split(',')[0].replace(\"UF \", \"\").replace(\".\", ''))\n",
    "        \n",
    "            \n",
    "#             # Check if place has more info:\n",
    "#             price_max = 0.0\n",
    "#             values = [0.0, 0.0]\n",
    "            \n",
    "#             if('Hasta:' in data[3]):\n",
    "#                 price_max = float(data[2].split(',')[0].split()[-1].replace(\".\", ''))\n",
    "            \n",
    "#             if(len(data)>= 5):\n",
    "#                 # Check if there's \"hasta\" price\n",
    "#                 if(\"Hasta:\" in data[4]):\n",
    "#                     price_max = float(data[5].split(',')[0].replace(\"UF \", \"\").replace(\".\", ''))\n",
    "#                     values = data[7].replace(\",\", \".\").split()\n",
    "#                 elif(price_max != 0.0):\n",
    "#                     values = data[5].replace(\",\", \".\").split()\n",
    "\n",
    "#                 size_min = float(values[0])\n",
    "\n",
    "#                 if(len(values)>2):\n",
    "#                     size_max = float(values[2])\n",
    "\n",
    "#             purchase = 'venta' if 'venta' in u else 'arriendo'\n",
    "#             elem_type = 'casa' if 'casa' in u else 'departamento'\n",
    "\n",
    "#             p_inmobiliario.append([code, addr, comuna, lat, lon, rooms, price_min, price_max, size_min, size_max, purchase, elem_type])\n",
    "#             # print(p_inmobiliario[-1])\n",
    "#         except:\n",
    "#             e = sys.exc_info()\n",
    "#             print(u)\n",
    "#             print(e)\n",
    "#             print(data)\n",
    "#             print(link)\n",
    "#             print(str(lat)+str(lon))\n",
    "#             print(comuna)"
   ]
  },
  {
   "cell_type": "code",
   "execution_count": 14,
   "metadata": {},
   "outputs": [
    {
     "data": {
      "text/plain": [
       "datetime.date(2019, 8, 28)"
      ]
     },
     "execution_count": 14,
     "metadata": {},
     "output_type": "execute_result"
    }
   ],
   "source": [
    "from datetime import date\n",
    "today = date.today()\n",
    "today"
   ]
  },
  {
   "cell_type": "code",
   "execution_count": 22,
   "metadata": {},
   "outputs": [
    {
     "data": {
      "text/plain": [
       "'d2019-08-28_t20-24-32'"
      ]
     },
     "execution_count": 22,
     "metadata": {},
     "output_type": "execute_result"
    }
   ],
   "source": [
    "import datetime\n",
    "now = datetime.datetime.now()\n",
    "'{0:d%Y-%m-%d_t%H-%M-%S}'.format(datetime.datetime.now())"
   ]
  },
  {
   "cell_type": "code",
   "execution_count": 82,
   "metadata": {},
   "outputs": [
    {
     "ename": "ApiError",
     "evalue": "REQUEST_DENIED (You must enable Billing on the Google Cloud Project at https://console.cloud.google.com/project/_/billing/enable.Learn more at https://developers.google.com/maps/gmp-get-started)",
     "output_type": "error",
     "traceback": [
      "\u001b[0;31m---------------------------------------------------------------------------\u001b[0m",
      "\u001b[0;31mApiError\u001b[0m                                  Traceback (most recent call last)",
      "\u001b[0;32m<ipython-input-82-aee876cc45f1>\u001b[0m in \u001b[0;36m<module>\u001b[0;34m\u001b[0m\n\u001b[1;32m      6\u001b[0m \u001b[0;34m\u001b[0m\u001b[0m\n\u001b[1;32m      7\u001b[0m \u001b[0mgmaps\u001b[0m \u001b[0;34m=\u001b[0m \u001b[0mgooglemaps\u001b[0m\u001b[0;34m.\u001b[0m\u001b[0mClient\u001b[0m\u001b[0;34m(\u001b[0m\u001b[0mkey\u001b[0m\u001b[0;34m=\u001b[0m\u001b[0mAPI_key\u001b[0m\u001b[0;34m)\u001b[0m\u001b[0;34m\u001b[0m\u001b[0;34m\u001b[0m\u001b[0m\n\u001b[0;32m----> 8\u001b[0;31m \u001b[0mgeocode_result\u001b[0m \u001b[0;34m=\u001b[0m \u001b[0mgmaps\u001b[0m\u001b[0;34m.\u001b[0m\u001b[0mgeocode\u001b[0m\u001b[0;34m(\u001b[0m\u001b[0;34m'Marberia 476, las condes'\u001b[0m\u001b[0;34m)\u001b[0m\u001b[0;34m\u001b[0m\u001b[0;34m\u001b[0m\u001b[0m\n\u001b[0m",
      "\u001b[0;32m~/miniconda3/envs/imfd-taller/lib/python3.7/site-packages/googlemaps/client.py\u001b[0m in \u001b[0;36mwrapper\u001b[0;34m(*args, **kwargs)\u001b[0m\n\u001b[1;32m    354\u001b[0m     \u001b[0;32mdef\u001b[0m \u001b[0mwrapper\u001b[0m\u001b[0;34m(\u001b[0m\u001b[0;34m*\u001b[0m\u001b[0margs\u001b[0m\u001b[0;34m,\u001b[0m \u001b[0;34m**\u001b[0m\u001b[0mkwargs\u001b[0m\u001b[0;34m)\u001b[0m\u001b[0;34m:\u001b[0m\u001b[0;34m\u001b[0m\u001b[0;34m\u001b[0m\u001b[0m\n\u001b[1;32m    355\u001b[0m         \u001b[0margs\u001b[0m\u001b[0;34m[\u001b[0m\u001b[0;36m0\u001b[0m\u001b[0;34m]\u001b[0m\u001b[0;34m.\u001b[0m\u001b[0m_extra_params\u001b[0m \u001b[0;34m=\u001b[0m \u001b[0mkwargs\u001b[0m\u001b[0;34m.\u001b[0m\u001b[0mpop\u001b[0m\u001b[0;34m(\u001b[0m\u001b[0;34m\"extra_params\"\u001b[0m\u001b[0;34m,\u001b[0m \u001b[0;32mNone\u001b[0m\u001b[0;34m)\u001b[0m\u001b[0;34m\u001b[0m\u001b[0;34m\u001b[0m\u001b[0m\n\u001b[0;32m--> 356\u001b[0;31m         \u001b[0mresult\u001b[0m \u001b[0;34m=\u001b[0m \u001b[0mfunc\u001b[0m\u001b[0;34m(\u001b[0m\u001b[0;34m*\u001b[0m\u001b[0margs\u001b[0m\u001b[0;34m,\u001b[0m \u001b[0;34m**\u001b[0m\u001b[0mkwargs\u001b[0m\u001b[0;34m)\u001b[0m\u001b[0;34m\u001b[0m\u001b[0;34m\u001b[0m\u001b[0m\n\u001b[0m\u001b[1;32m    357\u001b[0m         \u001b[0;32mtry\u001b[0m\u001b[0;34m:\u001b[0m\u001b[0;34m\u001b[0m\u001b[0;34m\u001b[0m\u001b[0m\n\u001b[1;32m    358\u001b[0m             \u001b[0;32mdel\u001b[0m \u001b[0margs\u001b[0m\u001b[0;34m[\u001b[0m\u001b[0;36m0\u001b[0m\u001b[0;34m]\u001b[0m\u001b[0;34m.\u001b[0m\u001b[0m_extra_params\u001b[0m\u001b[0;34m\u001b[0m\u001b[0;34m\u001b[0m\u001b[0m\n",
      "\u001b[0;32m~/miniconda3/envs/imfd-taller/lib/python3.7/site-packages/googlemaps/geocoding.py\u001b[0m in \u001b[0;36mgeocode\u001b[0;34m(client, address, components, bounds, region, language)\u001b[0m\n\u001b[1;32m     66\u001b[0m         \u001b[0mparams\u001b[0m\u001b[0;34m[\u001b[0m\u001b[0;34m\"language\"\u001b[0m\u001b[0;34m]\u001b[0m \u001b[0;34m=\u001b[0m \u001b[0mlanguage\u001b[0m\u001b[0;34m\u001b[0m\u001b[0;34m\u001b[0m\u001b[0m\n\u001b[1;32m     67\u001b[0m \u001b[0;34m\u001b[0m\u001b[0m\n\u001b[0;32m---> 68\u001b[0;31m     \u001b[0;32mreturn\u001b[0m \u001b[0mclient\u001b[0m\u001b[0;34m.\u001b[0m\u001b[0m_request\u001b[0m\u001b[0;34m(\u001b[0m\u001b[0;34m\"/maps/api/geocode/json\"\u001b[0m\u001b[0;34m,\u001b[0m \u001b[0mparams\u001b[0m\u001b[0;34m)\u001b[0m\u001b[0;34m[\u001b[0m\u001b[0;34m\"results\"\u001b[0m\u001b[0;34m]\u001b[0m\u001b[0;34m\u001b[0m\u001b[0;34m\u001b[0m\u001b[0m\n\u001b[0m\u001b[1;32m     69\u001b[0m \u001b[0;34m\u001b[0m\u001b[0m\n\u001b[1;32m     70\u001b[0m \u001b[0;34m\u001b[0m\u001b[0m\n",
      "\u001b[0;32m~/miniconda3/envs/imfd-taller/lib/python3.7/site-packages/googlemaps/client.py\u001b[0m in \u001b[0;36m_request\u001b[0;34m(self, url, params, first_request_time, retry_counter, base_url, accepts_clientid, extract_body, requests_kwargs, post_json)\u001b[0m\n\u001b[1;32m    251\u001b[0m                 \u001b[0mresult\u001b[0m \u001b[0;34m=\u001b[0m \u001b[0mextract_body\u001b[0m\u001b[0;34m(\u001b[0m\u001b[0mresponse\u001b[0m\u001b[0;34m)\u001b[0m\u001b[0;34m\u001b[0m\u001b[0;34m\u001b[0m\u001b[0m\n\u001b[1;32m    252\u001b[0m             \u001b[0;32melse\u001b[0m\u001b[0;34m:\u001b[0m\u001b[0;34m\u001b[0m\u001b[0;34m\u001b[0m\u001b[0m\n\u001b[0;32m--> 253\u001b[0;31m                 \u001b[0mresult\u001b[0m \u001b[0;34m=\u001b[0m \u001b[0mself\u001b[0m\u001b[0;34m.\u001b[0m\u001b[0m_get_body\u001b[0m\u001b[0;34m(\u001b[0m\u001b[0mresponse\u001b[0m\u001b[0;34m)\u001b[0m\u001b[0;34m\u001b[0m\u001b[0;34m\u001b[0m\u001b[0m\n\u001b[0m\u001b[1;32m    254\u001b[0m             \u001b[0mself\u001b[0m\u001b[0;34m.\u001b[0m\u001b[0msent_times\u001b[0m\u001b[0;34m.\u001b[0m\u001b[0mappend\u001b[0m\u001b[0;34m(\u001b[0m\u001b[0mtime\u001b[0m\u001b[0;34m.\u001b[0m\u001b[0mtime\u001b[0m\u001b[0;34m(\u001b[0m\u001b[0;34m)\u001b[0m\u001b[0;34m)\u001b[0m\u001b[0;34m\u001b[0m\u001b[0;34m\u001b[0m\u001b[0m\n\u001b[1;32m    255\u001b[0m             \u001b[0;32mreturn\u001b[0m \u001b[0mresult\u001b[0m\u001b[0;34m\u001b[0m\u001b[0;34m\u001b[0m\u001b[0m\n",
      "\u001b[0;32m~/miniconda3/envs/imfd-taller/lib/python3.7/site-packages/googlemaps/client.py\u001b[0m in \u001b[0;36m_get_body\u001b[0;34m(self, response)\u001b[0m\n\u001b[1;32m    278\u001b[0m         \u001b[0;32mif\u001b[0m \u001b[0;34m\"error_message\"\u001b[0m \u001b[0;32min\u001b[0m \u001b[0mbody\u001b[0m\u001b[0;34m:\u001b[0m\u001b[0;34m\u001b[0m\u001b[0;34m\u001b[0m\u001b[0m\n\u001b[1;32m    279\u001b[0m             raise googlemaps.exceptions.ApiError(api_status,\n\u001b[0;32m--> 280\u001b[0;31m                     body[\"error_message\"])\n\u001b[0m\u001b[1;32m    281\u001b[0m         \u001b[0;32melse\u001b[0m\u001b[0;34m:\u001b[0m\u001b[0;34m\u001b[0m\u001b[0;34m\u001b[0m\u001b[0m\n\u001b[1;32m    282\u001b[0m             \u001b[0;32mraise\u001b[0m \u001b[0mgooglemaps\u001b[0m\u001b[0;34m.\u001b[0m\u001b[0mexceptions\u001b[0m\u001b[0;34m.\u001b[0m\u001b[0mApiError\u001b[0m\u001b[0;34m(\u001b[0m\u001b[0mapi_status\u001b[0m\u001b[0;34m)\u001b[0m\u001b[0;34m\u001b[0m\u001b[0;34m\u001b[0m\u001b[0m\n",
      "\u001b[0;31mApiError\u001b[0m: REQUEST_DENIED (You must enable Billing on the Google Cloud Project at https://console.cloud.google.com/project/_/billing/enable.Learn more at https://developers.google.com/maps/gmp-get-started)"
     ]
    }
   ],
   "source": [
    "import googlemaps\n",
    "\n",
    "with open('API_key.txt') as f:\n",
    "    API_key = f.readline()\n",
    "    f.close\n",
    "\n",
    "gmaps = googlemaps.Client(key=API_key)\n",
    "geocode_result = gmaps.geocode('Marberia 476, las condes')"
   ]
  },
  {
   "cell_type": "code",
   "execution_count": 214,
   "metadata": {},
   "outputs": [],
   "source": [
    "from selenium import webdriver \n",
    "from selenium.webdriver.common.by import By \n",
    "from selenium.webdriver.support.ui import WebDriverWait \n",
    "from selenium.webdriver.support import expected_conditions as EC \n",
    "from selenium.common.exceptions import TimeoutException"
   ]
  },
  {
   "cell_type": "code",
   "execution_count": 215,
   "metadata": {},
   "outputs": [
    {
     "name": "stdout",
     "output_type": "stream",
     "text": [
      "['Proyecto, Venta, Departamento', 'Neogreen', 'Juan Moya Morales 332, Ñuñoa', 'Código: 8825', 'Desde: UF 3.593,00', 'Hasta: UF 7.777,00', 'Superficie: 39,19 - 113,23 m²']\n"
     ]
    }
   ],
   "source": [
    "browser = webdriver.Chrome()\n",
    "browser.get('file:///home/francesca/imfd-taller/html_p_inmobiliario_30-08-2019/venta_departamento_url3_index7.html')\n",
    "titles_element = browser.find_element_by_class_name('product-item-data')\n",
    "data1 = titles_element.text.split('\\n')\n",
    "print(data1)"
   ]
  },
  {
   "cell_type": "code",
   "execution_count": 216,
   "metadata": {},
   "outputs": [
    {
     "name": "stdout",
     "output_type": "stream",
     "text": [
      "['Proyecto, Venta, Departamento', 'Vista Vivaceta', 'Av. Fermín Vivaceta 3750, Conchalí', 'Código: 7448', 'Desde: UF 1.560,00', 'Superficie: 25,13 - 72,25 m²']\n"
     ]
    }
   ],
   "source": [
    "browser.get('file:///home/francesca/imfd-taller/html_p_inmobiliario_30-08-2019/venta_departamento_url10_index7.html')\n",
    "titles_element = browser.find_element_by_class_name('product-item-data')\n",
    "data2 = titles_element.text.split('\\n')\n",
    "print(data2)"
   ]
  },
  {
   "cell_type": "code",
   "execution_count": 217,
   "metadata": {},
   "outputs": [
    {
     "name": "stdout",
     "output_type": "stream",
     "text": [
      "['Propiedad usada, Venta, Departamento', 'Andes/Av. Brasil, Santiago', 'Código: 4813214', '3D/1B', 'Valor: UF 2.575,71', 'Superficie: 67 m²']\n"
     ]
    }
   ],
   "source": [
    "browser.get('file:///home/francesca/imfd-taller/html_p_inmobiliario_30-08-2019/venta_departamento_url30_index7.html')\n",
    "titles_element = browser.find_element_by_class_name('product-item-data')\n",
    "data3 = titles_element.text.split('\\n')\n",
    "print(data3)"
   ]
  },
  {
   "cell_type": "code",
   "execution_count": 218,
   "metadata": {},
   "outputs": [
    {
     "name": "stdout",
     "output_type": "stream",
     "text": [
      "['Propiedad usada, Arriendo, Departamento amoblado', 'Metro Hernando de Magallanes, Las Condes', 'Código: 5030155', '1B', 'Valor: UF 19,65', 'Superficie: 45 - 48 m²']\n"
     ]
    }
   ],
   "source": [
    "browser.get('file:///home/francesca/imfd-taller/html_p_inmobiliario_30-08-2019/arriendo_departamento_url322_index18.html')\n",
    "titles_element = browser.find_element_by_class_name('product-item-data')\n",
    "data4 = titles_element.text.split('\\n')\n",
    "print(data4)"
   ]
  },
  {
   "cell_type": "code",
   "execution_count": 219,
   "metadata": {},
   "outputs": [
    {
     "name": "stdout",
     "output_type": "stream",
     "text": [
      "['Propiedad usada, Arriendo, Departamento', 'El Golf, Las Condes', 'Código: 4625681', 'Valor: UF 40,00', 'Superficie: 80 - 80 m²']\n"
     ]
    }
   ],
   "source": [
    "browser.get('file:///home/francesca/imfd-taller/html_p_inmobiliario_30-08-2019/arriendo_departamento_url507_index24.html')\n",
    "titles_element = browser.find_element_by_class_name('product-item-data')\n",
    "data5 = titles_element.text.split('\\n')\n",
    "print(data5)"
   ]
  },
  {
   "cell_type": "code",
   "execution_count": 220,
   "metadata": {},
   "outputs": [
    {
     "name": "stdout",
     "output_type": "stream",
     "text": [
      "['Propiedad usada, Venta, Casa', 'Lo MartÃ\\xadnez, con Los Raulies, El Bosque', 'CÃģdigo: 4735191', '7D/3B', 'Valor: UF 2.680,79']\n"
     ]
    }
   ],
   "source": [
    "browser.get('file:///home/francesca/imfd-taller/html_p_inmobiliario_30-08-2019/venta_casa_url571_index23.html')\n",
    "titles_element = browser.find_element_by_class_name('product-item-data')\n",
    "data6 = titles_element.text.split('\\n')\n",
    "print(data6)"
   ]
  },
  {
   "cell_type": "code",
   "execution_count": 221,
   "metadata": {},
   "outputs": [
    {
     "name": "stdout",
     "output_type": "stream",
     "text": [
      "['Propiedad usada, Venta, Casa', 'San Dionisio / Bascuñan Guerrero, Santiago', 'Código: 5003298', '4D', 'Valor: UF 3.069,60', 'Superficie: 86 - 80 m²']\n"
     ]
    }
   ],
   "source": [
    "browser.get('file:///home/francesca/imfd-taller/html_p_inmobiliario_30-08-2019/venta_casa_url601_index22.html')\n",
    "titles_element = browser.find_element_by_class_name('product-item-data')\n",
    "data7 = titles_element.text.split('\\n')\n",
    "print(data7)"
   ]
  },
  {
   "cell_type": "code",
   "execution_count": 222,
   "metadata": {},
   "outputs": [
    {
     "name": "stdout",
     "output_type": "stream",
     "text": [
      "['Propiedad usada, Venta, Departamento', 'Calle San Ignacio de Loyola 999, Santiago', 'Código: 4846459', '2D/1B', 'Valor: UF 2.990,00', 'Superficie: 58 - 64 m²']\n"
     ]
    }
   ],
   "source": [
    "browser.get('file:///home/francesca/imfd-taller/html_p_inmobiliario_30-08-2019/venta_departamento_url81_index12.html')\n",
    "titles_element = browser.find_element_by_class_name('product-item-data')\n",
    "data8 = titles_element.text.split('\\n')\n",
    "print(data8)\n",
    "browser.close()"
   ]
  },
  {
   "cell_type": "code",
   "execution_count": 223,
   "metadata": {},
   "outputs": [
    {
     "name": "stdout",
     "output_type": "stream",
     "text": [
      "['Proyecto, Venta, Departamento', 'Neogreen', 'Juan Moya Morales 332, Ñuñoa', 'Código: 8825', 'Desde: UF 3.593,00', 'Hasta: UF 7.777,00', 'Superficie: 39,19 - 113,23 m²']\n",
      "Código: 8825\n",
      "['Juan Moya Morales 332, Ñuñoa', 'Código: 8825', 'Desde: UF 3.593,00', 'Hasta: UF 7.777,00', 'Superficie: 39,19 - 113,23 m²']\n",
      "8825 Juan Moya Morales 332, Ñuñoa Ñuñoa None 3593.0 7777.0 39.19 113.23  Venta  Departamento Proyecto\n",
      "\n",
      "\n",
      "['Proyecto, Venta, Departamento', 'Vista Vivaceta', 'Av. Fermín Vivaceta 3750, Conchalí', 'Código: 7448', 'Desde: UF 1.560,00', 'Superficie: 25,13 - 72,25 m²']\n",
      "Código: 7448\n",
      "['Av. Fermín Vivaceta 3750, Conchalí', 'Código: 7448', 'Desde: UF 1.560,00', 'Superficie: 25,13 - 72,25 m²']\n",
      "7448 Av. Fermín Vivaceta 3750, Conchalí Conchalí None 1560.0 0.0 25.13 72.25  Venta  Departamento Proyecto\n",
      "\n",
      "\n",
      "['Propiedad usada, Venta, Departamento', 'Andes/Av. Brasil, Santiago', 'Código: 4813214', '3D/1B', 'Valor: UF 2.575,71', 'Superficie: 67 m²']\n",
      "3D/1B\n",
      "['Andes/Av. Brasil, Santiago', 'Código: 4813214', 'Valor: UF 2.575,71', 'Superficie: 67 m²']\n",
      "4813214 Andes/Av. Brasil, Santiago Santiago 3D/1B 2575.0 0.0 67.0 0.0  Venta  Departamento Propiedad usada\n",
      "\n",
      "\n",
      "['Propiedad usada, Arriendo, Departamento amoblado', 'Metro Hernando de Magallanes, Las Condes', 'Código: 5030155', '1B', 'Valor: UF 19,65', 'Superficie: 45 - 48 m²']\n",
      "1B\n",
      "['Metro Hernando de Magallanes, Las Condes', 'Código: 5030155', 'Valor: UF 19,65', 'Superficie: 45 - 48 m²']\n",
      "5030155 Metro Hernando de Magallanes, Las Condes Las Condes 1B 19.0 0.0 45.0 48.0  Arriendo  Departamento amoblado Propiedad usada\n",
      "\n",
      "\n",
      "['Propiedad usada, Arriendo, Departamento', 'El Golf, Las Condes', 'Código: 4625681', 'Valor: UF 40,00', 'Superficie: 80 - 80 m²']\n",
      "Valor: UF 40,00\n",
      "['El Golf, Las Condes', 'Código: 4625681', 'Valor: UF 40,00', 'Superficie: 80 - 80 m²']\n",
      "4625681 El Golf, Las Condes Las Condes None 40.0 0.0 80.0 80.0  Arriendo  Departamento Propiedad usada\n",
      "\n",
      "\n",
      "['Propiedad usada, Venta, Casa', 'Lo MartÃ\\xadnez, con Los Raulies, El Bosque', 'CÃģdigo: 4735191', '7D/3B', 'Valor: UF 2.680,79']\n",
      "7D/3B\n",
      "['Lo MartÃ\\xadnez, con Los Raulies, El Bosque', 'CÃģdigo: 4735191', 'Valor: UF 2.680,79']\n",
      "4735191 Lo MartÃ­nez, con Los Raulies, El Bosque El Bosque 7D/3B 2680.0 0.0 0.0 0.0  Venta  Casa Propiedad usada\n",
      "\n",
      "\n",
      "['Propiedad usada, Venta, Casa', 'San Dionisio / Bascuñan Guerrero, Santiago', 'Código: 5003298', '4D', 'Valor: UF 3.069,60', 'Superficie: 86 - 80 m²']\n",
      "4D\n",
      "['San Dionisio / Bascuñan Guerrero, Santiago', 'Código: 5003298', 'Valor: UF 3.069,60', 'Superficie: 86 - 80 m²']\n",
      "5003298 San Dionisio / Bascuñan Guerrero, Santiago Santiago 4D 3069.0 0.0 86.0 80.0  Venta  Casa Propiedad usada\n",
      "\n",
      "\n",
      "['Propiedad usada, Venta, Departamento', 'Calle San Ignacio de Loyola 999, Santiago', 'Código: 4846459', '2D/1B', 'Valor: UF 2.990,00', 'Superficie: 58 - 64 m²']\n",
      "2D/1B\n",
      "['Calle San Ignacio de Loyola 999, Santiago', 'Código: 4846459', 'Valor: UF 2.990,00', 'Superficie: 58 - 64 m²']\n",
      "4846459 Calle San Ignacio de Loyola 999, Santiago Santiago 2D/1B 2990.0 0.0 58.0 64.0  Venta  Departamento Propiedad usada\n",
      "\n",
      "\n"
     ]
    }
   ],
   "source": [
    "def hasNumbers(inputString):\n",
    "    return any(char.isdigit() for char in inputString)\n",
    "\n",
    "datas = [data1, data2, data3, data4, data5, data6, data7, data8]\n",
    "\n",
    "for data in datas:\n",
    "    print(data)\n",
    "    # Reset variables\n",
    "    code = 0 \n",
    "    addr = 'None'\n",
    "    comuna = 'None'\n",
    "    rooms = 'None'\n",
    "    price_min = 0.0\n",
    "    price_max = 0.0\n",
    "    size_min = 0.0\n",
    "    size_max = 0.0\n",
    "    purchase = 'None'\n",
    "    elem_type = 'None'\n",
    "    project_type = 'None'\n",
    "    \n",
    "    project_type = data[0].split(',')[0]\n",
    "    purchase = data[0].split(',')[1]\n",
    "    elem_type = data[0].split(',')[2]\n",
    "    \n",
    "    \n",
    "    print(data[3])\n",
    "    if 'Proyecto' in data[0]:\n",
    "        data = data[2:]\n",
    "        \n",
    "    elif('D' in data[3] or 'B' in data[3]):\n",
    "        rooms = data[3]\n",
    "        data = data[1:3] + data[4:] \n",
    "    else:\n",
    "        data = data[1:]\n",
    "    print(data)\n",
    "        \n",
    "    # Get Address\n",
    "    addr = data[0]\n",
    "\n",
    "    # Get Code\n",
    "    code = int(data[1].split()[1])\n",
    "            \n",
    "    # Get Comuna\n",
    "    comuna = addr.split(',')[-1].strip()\n",
    "    \n",
    "    # Get value or min_price\n",
    "    price_min = 0.0\n",
    "    if(hasNumbers(data[2])):\n",
    "        price_min = float(data[2].split(',')[0].split()[-1].replace(\".\", ''))\n",
    "    else:\n",
    "        price_min = float(data[3].split(',')[0].replace(\"UF \", \"\").replace(\".\", ''))\n",
    "    \n",
    "    # Check if there's a max price\n",
    "    price_max = 0.0\n",
    "    if(len(data) > 3 and 'Hasta:' in data[3]):\n",
    "        price_max = float(data[3].split(',')[0].split()[-1].replace(\".\", ''))\n",
    "        \n",
    "    # Get size values\n",
    "    values = [0.0, 0.0]\n",
    "    \n",
    "    # Manage cases with just price_min and of length below 4\n",
    "    if(len(data) > 3 and 'Superficie:' in data[3]):\n",
    "        surface = data[3].replace(\",\", \".\").split()\n",
    "        size_min = float(surface[1])\n",
    "        \n",
    "        # Check if there's a max size\n",
    "        if(len(surface) > 3):\n",
    "            size_max = float(surface[3])\n",
    "    \n",
    "    # Check cases with length 4 or over\n",
    "    if(len(data)> 4):\n",
    "        # Check if there's \"hasta\" price\n",
    "        if('Hasta:' in data[4]):\n",
    "            price_max = float(data[5].split(',')[0].replace(\"UF \", \"\").replace(\".\", ''))\n",
    "            values = data[7].replace(\",\", \".\").split()\n",
    "        \n",
    "        elif('Superficie:' in data[4]):\n",
    "            surface = data[4].replace(\",\", \".\").split()\n",
    "            size_min = float(surface[1])\n",
    "            \n",
    "            # Check if there's a max size\n",
    "            if(len(surface) > 3):\n",
    "                size_max = float(surface[3])  \n",
    "    \n",
    "    print(code, addr, comuna, rooms, price_min, price_max, size_min, size_max, purchase, elem_type, project_type)\n",
    "    \n",
    "    print('\\n')"
   ]
  },
  {
   "cell_type": "code",
   "execution_count": 109,
   "metadata": {},
   "outputs": [
    {
     "data": {
      "text/plain": [
       "'35,04'"
      ]
     },
     "execution_count": 109,
     "metadata": {},
     "output_type": "execute_result"
    }
   ],
   "source": [
    "s = 'Superficie: 35,04 - 63,71 m²'\n",
    "s.split()[1]"
   ]
  },
  {
   "cell_type": "code",
   "execution_count": 95,
   "metadata": {},
   "outputs": [
    {
     "ename": "TypeError",
     "evalue": "'FirefoxWebElement' object is not subscriptable",
     "output_type": "error",
     "traceback": [
      "\u001b[0;31m---------------------------------------------------------------------------\u001b[0m",
      "\u001b[0;31mTypeError\u001b[0m                                 Traceback (most recent call last)",
      "\u001b[0;32m<ipython-input-95-13d8aa36cf23>\u001b[0m in \u001b[0;36m<module>\u001b[0;34m\u001b[0m\n\u001b[0;32m----> 1\u001b[0;31m \u001b[0mtitles_element\u001b[0m\u001b[0;34m[\u001b[0m\u001b[0;36m0\u001b[0m\u001b[0;34m]\u001b[0m\u001b[0;34m.\u001b[0m\u001b[0mget_attribute\u001b[0m\u001b[0;34m(\u001b[0m\u001b[0;34m'outerHTML'\u001b[0m\u001b[0;34m)\u001b[0m\u001b[0;34m\u001b[0m\u001b[0;34m\u001b[0m\u001b[0m\n\u001b[0m",
      "\u001b[0;31mTypeError\u001b[0m: 'FirefoxWebElement' object is not subscriptable"
     ]
    }
   ],
   "source": [
    "titles_element[0].get_attribute('outerHTML')"
   ]
  },
  {
   "cell_type": "code",
   "execution_count": 14,
   "metadata": {},
   "outputs": [],
   "source": [
    "val = 'https://www.portalinmobiliario.com/arriendo/departamento/san-miguel-metropolitana/4624344-teresa-vial-cercano-a-estaciones-de-metro-lo-vial-y-san-miguel-uda?tp=2&op=2&iug=441&ca=3&pd=13&ph=44&ts=1&mn=2&or=&sf=1&sp=0&at=0&i=1527'"
   ]
  },
  {
   "cell_type": "code",
   "execution_count": 15,
   "metadata": {},
   "outputs": [],
   "source": [
    "browser = webdriver.Firefox()\n",
    "browser.get(val)\n",
    "# bc_dir = browser.find_element_by_class_name('breadcrumb')\n",
    "# bc_dir2 = browser.find_element_by_class_name('prj-bcrumbs') \n",
    "lat_elem = browser.find_element_by_xpath(\"//meta[@property='og:latitude']\")\n",
    "lon_elem = browser.find_element_by_xpath(\"//meta[@property='og:longitude']\")"
   ]
  },
  {
   "cell_type": "code",
   "execution_count": 5,
   "metadata": {},
   "outputs": [
    {
     "data": {
      "text/plain": [
       "['Venta',\n",
       " '›',\n",
       " 'Departamento',\n",
       " '›',\n",
       " 'Metropolitana',\n",
       " '›',\n",
       " 'La',\n",
       " 'Florida',\n",
       " '›',\n",
       " 'Alonso',\n",
       " 'de',\n",
       " 'Ercilla',\n",
       " '8689']"
      ]
     },
     "execution_count": 5,
     "metadata": {},
     "output_type": "execute_result"
    }
   ],
   "source": [
    "bc_dir2.text.split()"
   ]
  },
  {
   "cell_type": "code",
   "execution_count": 16,
   "metadata": {},
   "outputs": [],
   "source": [
    "lat = lat_elem.get_attribute('content')"
   ]
  },
  {
   "cell_type": "code",
   "execution_count": 17,
   "metadata": {},
   "outputs": [],
   "source": [
    "lon = lon_elem.get_attribute('content')"
   ]
  },
  {
   "cell_type": "code",
   "execution_count": 18,
   "metadata": {},
   "outputs": [
    {
     "data": {
      "text/plain": [
       "-33.49218"
      ]
     },
     "execution_count": 18,
     "metadata": {},
     "output_type": "execute_result"
    }
   ],
   "source": [
    "float(lat)"
   ]
  },
  {
   "cell_type": "code",
   "execution_count": 19,
   "metadata": {},
   "outputs": [
    {
     "data": {
      "text/plain": [
       "-70.65842"
      ]
     },
     "execution_count": 19,
     "metadata": {},
     "output_type": "execute_result"
    }
   ],
   "source": [
    "float(lon)"
   ]
  },
  {
   "cell_type": "code",
   "execution_count": 72,
   "metadata": {},
   "outputs": [
    {
     "data": {
      "text/plain": [
       "3.039"
      ]
     },
     "execution_count": 72,
     "metadata": {},
     "output_type": "execute_result"
    }
   ],
   "source": [
    "s = 'Valor: UF 3.039,99'\n",
    "float(s.split(',')[0].split()[2])\n"
   ]
  },
  {
   "cell_type": "code",
   "execution_count": 2,
   "metadata": {},
   "outputs": [
    {
     "data": {
      "text/html": [
       "<div>\n",
       "<style scoped>\n",
       "    .dataframe tbody tr th:only-of-type {\n",
       "        vertical-align: middle;\n",
       "    }\n",
       "\n",
       "    .dataframe tbody tr th {\n",
       "        vertical-align: top;\n",
       "    }\n",
       "\n",
       "    .dataframe thead th {\n",
       "        text-align: right;\n",
       "    }\n",
       "</style>\n",
       "<table border=\"1\" class=\"dataframe\">\n",
       "  <thead>\n",
       "    <tr style=\"text-align: right;\">\n",
       "      <th></th>\n",
       "      <th>Codigo</th>\n",
       "      <th>Direccion</th>\n",
       "      <th>Latitud</th>\n",
       "      <th>Longitud</th>\n",
       "      <th>Piezas</th>\n",
       "      <th>Precio Min (UF)</th>\n",
       "      <th>Precio Max (UF)</th>\n",
       "      <th>Tamaño Min</th>\n",
       "      <th>Tamaño Max</th>\n",
       "      <th>Pago</th>\n",
       "      <th>Tipo de Vivienda</th>\n",
       "    </tr>\n",
       "  </thead>\n",
       "  <tbody>\n",
       "    <tr>\n",
       "      <td>0</td>\n",
       "      <td>7525</td>\n",
       "      <td>Almirante Blanco Encalada 2521, Santiago</td>\n",
       "      <td>-33.45755</td>\n",
       "      <td>-70.66876</td>\n",
       "      <td>NaN</td>\n",
       "      <td>2275</td>\n",
       "      <td>3717</td>\n",
       "      <td>29.50</td>\n",
       "      <td>57.90</td>\n",
       "      <td>venta</td>\n",
       "      <td>departamento</td>\n",
       "    </tr>\n",
       "    <tr>\n",
       "      <td>1</td>\n",
       "      <td>8453</td>\n",
       "      <td>Av. Brasil 601, Santiago</td>\n",
       "      <td>-33.43743</td>\n",
       "      <td>-70.66429</td>\n",
       "      <td>NaN</td>\n",
       "      <td>2784</td>\n",
       "      <td>2847</td>\n",
       "      <td>36.88</td>\n",
       "      <td>37.81</td>\n",
       "      <td>venta</td>\n",
       "      <td>departamento</td>\n",
       "    </tr>\n",
       "    <tr>\n",
       "      <td>2</td>\n",
       "      <td>6675</td>\n",
       "      <td>Monumento 2158, Maipú</td>\n",
       "      <td>-33.50769</td>\n",
       "      <td>-70.75911</td>\n",
       "      <td>NaN</td>\n",
       "      <td>3367</td>\n",
       "      <td>3823</td>\n",
       "      <td>60.83</td>\n",
       "      <td>65.18</td>\n",
       "      <td>venta</td>\n",
       "      <td>departamento</td>\n",
       "    </tr>\n",
       "    <tr>\n",
       "      <td>3</td>\n",
       "      <td>8377</td>\n",
       "      <td>Central Pérez Llona 140, Maipú</td>\n",
       "      <td>-33.50017</td>\n",
       "      <td>-70.75587</td>\n",
       "      <td>NaN</td>\n",
       "      <td>3488</td>\n",
       "      <td>6576</td>\n",
       "      <td>59.83</td>\n",
       "      <td>100.33</td>\n",
       "      <td>venta</td>\n",
       "      <td>departamento</td>\n",
       "    </tr>\n",
       "    <tr>\n",
       "      <td>4</td>\n",
       "      <td>8528</td>\n",
       "      <td>Calle Rinconada El Salto 291, Huechuraba</td>\n",
       "      <td>-33.38194</td>\n",
       "      <td>-70.61880</td>\n",
       "      <td>NaN</td>\n",
       "      <td>2697</td>\n",
       "      <td>7504</td>\n",
       "      <td>44.15</td>\n",
       "      <td>105.14</td>\n",
       "      <td>venta</td>\n",
       "      <td>departamento</td>\n",
       "    </tr>\n",
       "    <tr>\n",
       "      <td>...</td>\n",
       "      <td>...</td>\n",
       "      <td>...</td>\n",
       "      <td>...</td>\n",
       "      <td>...</td>\n",
       "      <td>...</td>\n",
       "      <td>...</td>\n",
       "      <td>...</td>\n",
       "      <td>...</td>\n",
       "      <td>...</td>\n",
       "      <td>...</td>\n",
       "      <td>...</td>\n",
       "    </tr>\n",
       "    <tr>\n",
       "      <td>731</td>\n",
       "      <td>5024547</td>\n",
       "      <td>Santa Isabel / Lira, Santiago</td>\n",
       "      <td>-33.44790</td>\n",
       "      <td>-70.64013</td>\n",
       "      <td>2D/2B</td>\n",
       "      <td>2573</td>\n",
       "      <td>0</td>\n",
       "      <td>41.00</td>\n",
       "      <td>42.00</td>\n",
       "      <td>venta</td>\n",
       "      <td>departamento</td>\n",
       "    </tr>\n",
       "    <tr>\n",
       "      <td>732</td>\n",
       "      <td>4889164</td>\n",
       "      <td>Independencia 4599, Conchalí</td>\n",
       "      <td>-33.38606</td>\n",
       "      <td>-70.67885</td>\n",
       "      <td>2D/2B</td>\n",
       "      <td>2573</td>\n",
       "      <td>0</td>\n",
       "      <td>54.00</td>\n",
       "      <td>54.00</td>\n",
       "      <td>venta</td>\n",
       "      <td>departamento</td>\n",
       "    </tr>\n",
       "    <tr>\n",
       "      <td>733</td>\n",
       "      <td>5018229</td>\n",
       "      <td>Vicuña Mackenna 1751, Santiago</td>\n",
       "      <td>-33.46912</td>\n",
       "      <td>-70.64200</td>\n",
       "      <td>3D/2B</td>\n",
       "      <td>2573</td>\n",
       "      <td>0</td>\n",
       "      <td>60.00</td>\n",
       "      <td>60.00</td>\n",
       "      <td>venta</td>\n",
       "      <td>departamento</td>\n",
       "    </tr>\n",
       "    <tr>\n",
       "      <td>734</td>\n",
       "      <td>4798017</td>\n",
       "      <td>Lord Cochranne / Miguel De Olivares, Santiago</td>\n",
       "      <td>-33.44957</td>\n",
       "      <td>-70.65490</td>\n",
       "      <td>2D/1B</td>\n",
       "      <td>2574</td>\n",
       "      <td>0</td>\n",
       "      <td>48.00</td>\n",
       "      <td>48.00</td>\n",
       "      <td>venta</td>\n",
       "      <td>departamento</td>\n",
       "    </tr>\n",
       "    <tr>\n",
       "      <td>735</td>\n",
       "      <td>5014626</td>\n",
       "      <td>PISO 2 - DEPARTAMENTO TOTALMENTE REMODELADO EN...</td>\n",
       "      <td>-33.43565</td>\n",
       "      <td>-70.65874</td>\n",
       "      <td>2D/1B</td>\n",
       "      <td>2574</td>\n",
       "      <td>0</td>\n",
       "      <td>48.00</td>\n",
       "      <td>48.00</td>\n",
       "      <td>venta</td>\n",
       "      <td>departamento</td>\n",
       "    </tr>\n",
       "  </tbody>\n",
       "</table>\n",
       "<p>736 rows × 11 columns</p>\n",
       "</div>"
      ],
      "text/plain": [
       "      Codigo                                          Direccion   Latitud  \\\n",
       "0       7525           Almirante Blanco Encalada 2521, Santiago -33.45755   \n",
       "1       8453                           Av. Brasil 601, Santiago -33.43743   \n",
       "2       6675                              Monumento 2158, Maipú -33.50769   \n",
       "3       8377                     Central Pérez Llona 140, Maipú -33.50017   \n",
       "4       8528           Calle Rinconada El Salto 291, Huechuraba -33.38194   \n",
       "..       ...                                                ...       ...   \n",
       "731  5024547                      Santa Isabel / Lira, Santiago -33.44790   \n",
       "732  4889164                       Independencia 4599, Conchalí -33.38606   \n",
       "733  5018229                     Vicuña Mackenna 1751, Santiago -33.46912   \n",
       "734  4798017      Lord Cochranne / Miguel De Olivares, Santiago -33.44957   \n",
       "735  5014626  PISO 2 - DEPARTAMENTO TOTALMENTE REMODELADO EN... -33.43565   \n",
       "\n",
       "     Longitud Piezas  Precio Min (UF)  Precio Max (UF)  Tamaño Min  \\\n",
       "0   -70.66876    NaN             2275             3717       29.50   \n",
       "1   -70.66429    NaN             2784             2847       36.88   \n",
       "2   -70.75911    NaN             3367             3823       60.83   \n",
       "3   -70.75587    NaN             3488             6576       59.83   \n",
       "4   -70.61880    NaN             2697             7504       44.15   \n",
       "..        ...    ...              ...              ...         ...   \n",
       "731 -70.64013  2D/2B             2573                0       41.00   \n",
       "732 -70.67885  2D/2B             2573                0       54.00   \n",
       "733 -70.64200  3D/2B             2573                0       60.00   \n",
       "734 -70.65490  2D/1B             2574                0       48.00   \n",
       "735 -70.65874  2D/1B             2574                0       48.00   \n",
       "\n",
       "     Tamaño Max   Pago Tipo de Vivienda  \n",
       "0         57.90  venta     departamento  \n",
       "1         37.81  venta     departamento  \n",
       "2         65.18  venta     departamento  \n",
       "3        100.33  venta     departamento  \n",
       "4        105.14  venta     departamento  \n",
       "..          ...    ...              ...  \n",
       "731       42.00  venta     departamento  \n",
       "732       54.00  venta     departamento  \n",
       "733       60.00  venta     departamento  \n",
       "734       48.00  venta     departamento  \n",
       "735       48.00  venta     departamento  \n",
       "\n",
       "[736 rows x 11 columns]"
      ]
     },
     "execution_count": 2,
     "metadata": {},
     "output_type": "execute_result"
    }
   ],
   "source": [
    "import pandas as pd\n",
    "\n",
    "table = pd.read_csv('p_inmobiliario_d2019-08-29_t16-35-11p1.csv')\n",
    "table"
   ]
  },
  {
   "cell_type": "code",
   "execution_count": 3,
   "metadata": {},
   "outputs": [
    {
     "data": {
      "text/html": [
       "<div>\n",
       "<style scoped>\n",
       "    .dataframe tbody tr th:only-of-type {\n",
       "        vertical-align: middle;\n",
       "    }\n",
       "\n",
       "    .dataframe tbody tr th {\n",
       "        vertical-align: top;\n",
       "    }\n",
       "\n",
       "    .dataframe thead th {\n",
       "        text-align: right;\n",
       "    }\n",
       "</style>\n",
       "<table border=\"1\" class=\"dataframe\">\n",
       "  <thead>\n",
       "    <tr style=\"text-align: right;\">\n",
       "      <th></th>\n",
       "      <th>Latitud</th>\n",
       "      <th>Longitud</th>\n",
       "    </tr>\n",
       "  </thead>\n",
       "  <tbody>\n",
       "    <tr>\n",
       "      <td>0</td>\n",
       "      <td>-33.45755</td>\n",
       "      <td>-70.66876</td>\n",
       "    </tr>\n",
       "    <tr>\n",
       "      <td>1</td>\n",
       "      <td>-33.43743</td>\n",
       "      <td>-70.66429</td>\n",
       "    </tr>\n",
       "    <tr>\n",
       "      <td>2</td>\n",
       "      <td>-33.50769</td>\n",
       "      <td>-70.75911</td>\n",
       "    </tr>\n",
       "    <tr>\n",
       "      <td>3</td>\n",
       "      <td>-33.50017</td>\n",
       "      <td>-70.75587</td>\n",
       "    </tr>\n",
       "    <tr>\n",
       "      <td>4</td>\n",
       "      <td>-33.38194</td>\n",
       "      <td>-70.61880</td>\n",
       "    </tr>\n",
       "    <tr>\n",
       "      <td>...</td>\n",
       "      <td>...</td>\n",
       "      <td>...</td>\n",
       "    </tr>\n",
       "    <tr>\n",
       "      <td>731</td>\n",
       "      <td>-33.44790</td>\n",
       "      <td>-70.64013</td>\n",
       "    </tr>\n",
       "    <tr>\n",
       "      <td>732</td>\n",
       "      <td>-33.38606</td>\n",
       "      <td>-70.67885</td>\n",
       "    </tr>\n",
       "    <tr>\n",
       "      <td>733</td>\n",
       "      <td>-33.46912</td>\n",
       "      <td>-70.64200</td>\n",
       "    </tr>\n",
       "    <tr>\n",
       "      <td>734</td>\n",
       "      <td>-33.44957</td>\n",
       "      <td>-70.65490</td>\n",
       "    </tr>\n",
       "    <tr>\n",
       "      <td>735</td>\n",
       "      <td>-33.43565</td>\n",
       "      <td>-70.65874</td>\n",
       "    </tr>\n",
       "  </tbody>\n",
       "</table>\n",
       "<p>736 rows × 2 columns</p>\n",
       "</div>"
      ],
      "text/plain": [
       "      Latitud  Longitud\n",
       "0   -33.45755 -70.66876\n",
       "1   -33.43743 -70.66429\n",
       "2   -33.50769 -70.75911\n",
       "3   -33.50017 -70.75587\n",
       "4   -33.38194 -70.61880\n",
       "..        ...       ...\n",
       "731 -33.44790 -70.64013\n",
       "732 -33.38606 -70.67885\n",
       "733 -33.46912 -70.64200\n",
       "734 -33.44957 -70.65490\n",
       "735 -33.43565 -70.65874\n",
       "\n",
       "[736 rows x 2 columns]"
      ]
     },
     "execution_count": 3,
     "metadata": {},
     "output_type": "execute_result"
    }
   ],
   "source": [
    "geoloc = table[['Latitud', 'Longitud']]\n",
    "geoloc"
   ]
  },
  {
   "cell_type": "code",
   "execution_count": 4,
   "metadata": {},
   "outputs": [
    {
     "data": {
      "text/plain": [
       "0      2275\n",
       "1      2784\n",
       "2      3367\n",
       "3      3488\n",
       "4      2697\n",
       "       ... \n",
       "731    2573\n",
       "732    2573\n",
       "733    2573\n",
       "734    2574\n",
       "735    2574\n",
       "Name: Precio Min (UF), Length: 736, dtype: int64"
      ]
     },
     "execution_count": 4,
     "metadata": {},
     "output_type": "execute_result"
    }
   ],
   "source": [
    "price = table['Precio Min (UF)']\n",
    "price"
   ]
  },
  {
   "cell_type": "code",
   "execution_count": 5,
   "metadata": {},
   "outputs": [],
   "source": [
    "with open('API_key.txt') as f:\n",
    "    API_key = f.readline()\n",
    "    f.close"
   ]
  },
  {
   "cell_type": "code",
   "execution_count": 6,
   "metadata": {},
   "outputs": [
    {
     "data": {
      "application/vnd.jupyter.widget-view+json": {
       "model_id": "7ab5af844b644baf97ecfb2a0e8b2cc6",
       "version_major": 2,
       "version_minor": 0
      },
      "text/plain": [
       "Figure(layout=FigureLayout(height='420px'))"
      ]
     },
     "metadata": {},
     "output_type": "display_data"
    }
   ],
   "source": [
    "import gmaps\n",
    "gmaps.configure(api_key=API_key)\n",
    "santiago_coordinates = (-33.447487,-70.673676)\n",
    "gmaps.figure(center=santiago_coordinates, zoom_level=11)"
   ]
  },
  {
   "cell_type": "code",
   "execution_count": 7,
   "metadata": {},
   "outputs": [
    {
     "data": {
      "application/vnd.jupyter.widget-view+json": {
       "model_id": "941a8bb118bb4e5aa28f601593005911",
       "version_major": 2,
       "version_minor": 0
      },
      "text/plain": [
       "Figure(layout=FigureLayout(height='420px'))"
      ]
     },
     "metadata": {},
     "output_type": "display_data"
    }
   ],
   "source": [
    "fig = gmaps.figure()\n",
    "fig.add_layer(gmaps.heatmap_layer(geoloc, weights=price))\n",
    "fig"
   ]
  },
  {
   "cell_type": "code",
   "execution_count": 65,
   "metadata": {},
   "outputs": [],
   "source": [
    "import numpy as np\n",
    "import pandas as pd\n",
    "import shapefile as shp\n",
    "import matplotlib.pyplot as plt\n",
    "import seaborn as sns\n",
    "\n",
    "import pyproj\n",
    "\n",
    "figsize = (11,9)\n",
    "_projections = {}\n",
    "zone = 19\n",
    "l = 'S'"
   ]
  },
  {
   "cell_type": "code",
   "execution_count": 2,
   "metadata": {},
   "outputs": [],
   "source": [
    "sns.set(style=\"whitegrid\", palette=\"pastel\", color_codes=True)\n",
    "sns.mpl.rc(\"figure\", figsize=(10,6))\n",
    "%matplotlib inline"
   ]
  },
  {
   "cell_type": "code",
   "execution_count": 3,
   "metadata": {},
   "outputs": [
    {
     "data": {
      "text/plain": [
       "52"
      ]
     },
     "execution_count": 3,
     "metadata": {},
     "output_type": "execute_result"
    }
   ],
   "source": [
    "shp_path = \"./comunas/comunas.shp\"\n",
    "sf = shp.Reader(shp_path, encoding=\"latin1\")\n",
    "len(sf.shapes())"
   ]
  },
  {
   "cell_type": "code",
   "execution_count": 4,
   "metadata": {},
   "outputs": [
    {
     "data": {
      "text/plain": [
       "52"
      ]
     },
     "execution_count": 4,
     "metadata": {},
     "output_type": "execute_result"
    }
   ],
   "source": [
    "len(sf.shapeRecords())"
   ]
  },
  {
   "cell_type": "code",
   "execution_count": 5,
   "metadata": {},
   "outputs": [],
   "source": [
    "def read_shapefile(sf):\n",
    "    \"\"\"\n",
    "    Read a shapefile into a Pandas dataframe with a 'coords' \n",
    "    column holding the geometry information. This uses the pyshp\n",
    "    package\n",
    "    \"\"\"\n",
    "    fields = [x[0] for x in sf.fields][1:]\n",
    "    records = sf.records()\n",
    "    shps = [s.points for s in sf.shapes()]\n",
    "    df = pd.DataFrame(columns=fields, data=records)\n",
    "    df = df.assign(coords=shps)\n",
    "    return(df)"
   ]
  },
  {
   "cell_type": "code",
   "execution_count": 6,
   "metadata": {},
   "outputs": [
    {
     "data": {
      "text/html": [
       "<div>\n",
       "<style scoped>\n",
       "    .dataframe tbody tr th:only-of-type {\n",
       "        vertical-align: middle;\n",
       "    }\n",
       "\n",
       "    .dataframe tbody tr th {\n",
       "        vertical-align: top;\n",
       "    }\n",
       "\n",
       "    .dataframe thead th {\n",
       "        text-align: right;\n",
       "    }\n",
       "</style>\n",
       "<table border=\"1\" class=\"dataframe\">\n",
       "  <thead>\n",
       "    <tr style=\"text-align: right;\">\n",
       "      <th></th>\n",
       "      <th>ID</th>\n",
       "      <th>NOMBRE</th>\n",
       "      <th>coords</th>\n",
       "    </tr>\n",
       "  </thead>\n",
       "  <tbody>\n",
       "    <tr>\n",
       "      <td>32</td>\n",
       "      <td>13401</td>\n",
       "      <td>San Bernardo</td>\n",
       "      <td>[(331211.5747418219, 6263435.206913535), (3311...</td>\n",
       "    </tr>\n",
       "    <tr>\n",
       "      <td>41</td>\n",
       "      <td>13502</td>\n",
       "      <td>Alhue</td>\n",
       "      <td>[(288360.13182193716, 6232869.318511512), (288...</td>\n",
       "    </tr>\n",
       "    <tr>\n",
       "      <td>29</td>\n",
       "      <td>13107</td>\n",
       "      <td>Huechuraba</td>\n",
       "      <td>[(351502.0825716938, 6310275.932619601), (3516...</td>\n",
       "    </tr>\n",
       "    <tr>\n",
       "      <td>51</td>\n",
       "      <td>13603</td>\n",
       "      <td>Isla de Maipo</td>\n",
       "      <td>[(331017.418092029, 6267339.202266597), (33110...</td>\n",
       "    </tr>\n",
       "    <tr>\n",
       "      <td>43</td>\n",
       "      <td>13505</td>\n",
       "      <td>San Pedro</td>\n",
       "      <td>[(287611.43389739597, 6232058.433564792), (287...</td>\n",
       "    </tr>\n",
       "  </tbody>\n",
       "</table>\n",
       "</div>"
      ],
      "text/plain": [
       "       ID         NOMBRE                                             coords\n",
       "32  13401   San Bernardo  [(331211.5747418219, 6263435.206913535), (3311...\n",
       "41  13502          Alhue  [(288360.13182193716, 6232869.318511512), (288...\n",
       "29  13107     Huechuraba  [(351502.0825716938, 6310275.932619601), (3516...\n",
       "51  13603  Isla de Maipo  [(331017.418092029, 6267339.202266597), (33110...\n",
       "43  13505      San Pedro  [(287611.43389739597, 6232058.433564792), (287..."
      ]
     },
     "execution_count": 6,
     "metadata": {},
     "output_type": "execute_result"
    }
   ],
   "source": [
    "chile_comunas = read_shapefile(sf)\n",
    "chile_comunas.sample(5)"
   ]
  },
  {
   "cell_type": "code",
   "execution_count": 34,
   "metadata": {},
   "outputs": [],
   "source": [
    "def unproject(x, y, z=zone, l=l):\n",
    "    if z not in _projections:\n",
    "        _projections[z] = pyproj.Proj(proj='utm', zone=z, ellps='WGS84')\n",
    "    if l > 'N':\n",
    "        y -= 10000000\n",
    "    lng, lat = _projections[z](x, y, inverse=True)\n",
    "    return (lng, lat)"
   ]
  },
  {
   "cell_type": "code",
   "execution_count": 35,
   "metadata": {},
   "outputs": [
    {
     "name": "stdout",
     "output_type": "stream",
     "text": [
      "6294859.660557089 339959.49200528493\n",
      "-33.47378989528816 -70.7223679874045\n"
     ]
    }
   ],
   "source": [
    "x, y = sf.shapeRecords()[0].shape.points[0]\n",
    "unproject(x, y)\n",
    "\n",
    "shape = sf.shape(1)\n",
    "xp, yp = shape.points[1]\n",
    "print(yp, xp)\n",
    "\n",
    "y, x = unproject(xp, yp)\n",
    "print(x,y)"
   ]
  },
  {
   "cell_type": "code",
   "execution_count": 69,
   "metadata": {},
   "outputs": [
    {
     "data": {
      "text/plain": [
       "<Figure size 432x288 with 0 Axes>"
      ]
     },
     "metadata": {},
     "output_type": "display_data"
    }
   ],
   "source": [
    "def plot_shape(id, s=None):\n",
    "    \"\"\" PLOTS A SINGLE SHAPE \"\"\"\n",
    "    plt.figure()\n",
    "    ax = plt.axes()\n",
    "    ax.set_aspect('equal')\n",
    "    shape_ex = sf.shape(id)\n",
    "    x_lon = np.zeros((len(shape_ex.points),1))\n",
    "    y_lat = np.zeros((len(shape_ex.points),1))\n",
    "    for ip in range(len(shape_ex.points)):\n",
    "        x, y = unproject(shape_ex.points[ip][0], shape_ex.points[ip][1])\n",
    "        x_lon[ip] = x\n",
    "        y_lat[ip] = y\n",
    "        \n",
    "    plt.plot(x_lon,y_lat) \n",
    "    x0 = np.mean(x_lon)\n",
    "    y0 = np.mean(y_lat)\n",
    "    plt.text(x0, y0, s, fontsize=10)\n",
    "    \n",
    "    # use bbox (bounding box) to set plot limits\n",
    "    bbox_x1, bbox_x2 = unproject(shape_ex.bbox[0], shape_ex.bbox[1])\n",
    "    bbox_y1, bbox_y2 = unproject(shape_ex.bbox[2], shape_ex.bbox[3])\n",
    "    plt.xlim(bbox_x1, bbox_y1)\n",
    "    return x0, y0"
   ]
  },
  {
   "cell_type": "code",
   "execution_count": 70,
   "metadata": {},
   "outputs": [
    {
     "data": {
      "text/plain": [
       "(-70.71470862355093, -33.4919839919039)"
      ]
     },
     "execution_count": 70,
     "metadata": {},
     "output_type": "execute_result"
    },
    {
     "data": {
      "image/png": "[encoded data removed]",
      "text/plain": [
       "<Figure size 432x288 with 1 Axes>"
      ]
     },
     "metadata": {
      "needs_background": "light"
     },
     "output_type": "display_data"
    }
   ],
   "source": [
    "comuna = 'Santiago'\n",
    "plot_shape(1, comuna)"
   ]
  },
  {
   "cell_type": "code",
   "execution_count": 80,
   "metadata": {},
   "outputs": [],
   "source": [
    "def plot_map(sf, x_lim = None, y_lim = None, figsize = (11,9)):\n",
    "    '''\n",
    "    Plot map with lim coordinates\n",
    "    '''\n",
    "    plt.figure(figsize = figsize)\n",
    "    id=0\n",
    "    for shape in sf.shapeRecords():\n",
    "        x = []\n",
    "        y = []\n",
    "        points = shape.shape.points[:]\n",
    "        for i in points:\n",
    "            xi, yi = unproject(i[0], i[1])\n",
    "            x.append(xi)\n",
    "            y.append(yi)\n",
    "\n",
    "        plt.plot(x, y, 'k')\n",
    "        \n",
    "        if (x_lim == None) & (y_lim == None):\n",
    "            x0 = np.mean(x)\n",
    "            y0 = np.mean(y)\n",
    "            plt.text(x0, y0, id, fontsize=10)\n",
    "        id = id+1\n",
    "    \n",
    "    if (x_lim != None) & (y_lim != None):     \n",
    "        plt.xlim(x_lim)\n",
    "        plt.ylim(y_lim)"
   ]
  },
  {
   "cell_type": "code",
   "execution_count": 81,
   "metadata": {},
   "outputs": [
    {
     "data": {
      "image/png": "[encoded data removed]",
      "text/plain": [
       "<Figure size 792x648 with 1 Axes>"
      ]
     },
     "metadata": {
      "needs_background": "light"
     },
     "output_type": "display_data"
    }
   ],
   "source": [
    "plot_map(sf, plt)"
   ]
  },
  {
   "cell_type": "code",
   "execution_count": null,
   "metadata": {},
   "outputs": [],
   "source": []
  }
 ],
 "metadata": {
  "kernelspec": {
   "display_name": "Python 3",
   "language": "python",
   "name": "python3"
  },
  "language_info": {
   "codemirror_mode": {
    "name": "ipython",
    "version": 3
   },
   "file_extension": ".py",
   "mimetype": "text/x-python",
   "name": "python",
   "nbconvert_exporter": "python",
   "pygments_lexer": "ipython3",
   "version": "3.7.3"
  }
 },
 "nbformat": 4,
 "nbformat_minor": 2
}
